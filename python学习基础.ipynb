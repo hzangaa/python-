{
 "cells": [
  {
   "cell_type": "code",
   "execution_count": null,
   "metadata": {
    "collapsed": true
   },
   "outputs": [],
   "source": [
    "#python中标识符命名规则为：第一个字符为字母或下划线，除第一个字符以为的其他字符可以是字母、下划线或数字\n",
    "#python中，常见的数据类型有：数、字符串、列表(list)、元组(tuple)、集合(set)、字典(dictionary)"
   ]
  },
  {
   "cell_type": "code",
   "execution_count": 2,
   "metadata": {
    "collapsed": true
   },
   "outputs": [],
   "source": [
    "#python注释方法\"#\"'''python多行注释三引号'''"
   ]
  },
  {
   "cell_type": "code",
   "execution_count": 3,
   "metadata": {},
   "outputs": [
    {
     "name": "stdout",
     "output_type": "stream",
     "text": [
      "my e\n"
     ]
    }
   ],
   "source": [
    "#列表(list)\n",
    "abc=['my','you']\n",
    "abc[1]='he'\n",
    "print(abc[0],abc[1][1])"
   ]
  },
  {
   "cell_type": "code",
   "execution_count": 4,
   "metadata": {},
   "outputs": [
    {
     "name": "stdout",
     "output_type": "stream",
     "text": [
      "my\n"
     ]
    },
    {
     "ename": "TypeError",
     "evalue": "'tuple' object does not support item assignment",
     "output_type": "error",
     "traceback": [
      "\u001b[0;31m---------------------------------------------------------------------------\u001b[0m",
      "\u001b[0;31mTypeError\u001b[0m                                 Traceback (most recent call last)",
      "\u001b[0;32m<ipython-input-4-3dc5d43d3399>\u001b[0m in \u001b[0;36m<module>\u001b[0;34m()\u001b[0m\n\u001b[1;32m      2\u001b[0m \u001b[0mcde\u001b[0m\u001b[0;34m=\u001b[0m\u001b[0;34m(\u001b[0m\u001b[0;34m'my'\u001b[0m\u001b[0;34m,\u001b[0m\u001b[0;34m'you'\u001b[0m\u001b[0;34m)\u001b[0m\u001b[0;34m\u001b[0m\u001b[0m\n\u001b[1;32m      3\u001b[0m \u001b[0mprint\u001b[0m\u001b[0;34m(\u001b[0m\u001b[0mcde\u001b[0m\u001b[0;34m[\u001b[0m\u001b[0;36m0\u001b[0m\u001b[0;34m]\u001b[0m\u001b[0;34m)\u001b[0m\u001b[0;34m\u001b[0m\u001b[0m\n\u001b[0;32m----> 4\u001b[0;31m \u001b[0mcde\u001b[0m\u001b[0;34m[\u001b[0m\u001b[0;36m1\u001b[0m\u001b[0;34m]\u001b[0m\u001b[0;34m=\u001b[0m\u001b[0;34m'he'\u001b[0m\u001b[0;34m\u001b[0m\u001b[0m\n\u001b[0m",
      "\u001b[0;31mTypeError\u001b[0m: 'tuple' object does not support item assignment"
     ]
    }
   ],
   "source": [
    "#元组(tuple) 一旦初始化就不能修改\n",
    "cde=('my','you')\n",
    "print(cde[0])\n",
    "cde[1]='he'"
   ]
  },
  {
   "cell_type": "code",
   "execution_count": 7,
   "metadata": {},
   "outputs": [
    {
     "name": "stdout",
     "output_type": "stream",
     "text": [
      "{'f', 'h', 's', 'd'}\n",
      "{'f', 'h', 'j', 'r', 'g', 's', 'i', 'a', 'k', 'd'}\n"
     ]
    }
   ],
   "source": [
    "#集合(set)\n",
    "a='sdhjdsfhjkdsf'\n",
    "b='fihrghsad'\n",
    "sa=set(a)\n",
    "sb=set(b)\n",
    "print(sa&sb)\n",
    "print(sa|sb)"
   ]
  },
  {
   "cell_type": "code",
   "execution_count": 8,
   "metadata": {},
   "outputs": [
    {
     "name": "stdout",
     "output_type": "stream",
     "text": [
      "weiwei man\n"
     ]
    }
   ],
   "source": [
    "#字典(dictionary) {key1:value1,key2:value}\n",
    "d1={'name':'weiwei','sex':'man'}\n",
    "print(d1['name'],d1['sex'])"
   ]
  },
  {
   "cell_type": "code",
   "execution_count": 9,
   "metadata": {},
   "outputs": [
    {
     "name": "stdout",
     "output_type": "stream",
     "text": [
      "6 6.5 2\n"
     ]
    }
   ],
   "source": [
    "#运算符‘+’，‘-’，‘*’，‘／’，‘%’，‘／／’\n",
    "print(26//4,26/4,26%4)"
   ]
  },
  {
   "cell_type": "code",
   "execution_count": 27,
   "metadata": {},
   "outputs": [
    {
     "name": "stdout",
     "output_type": "stream",
     "text": [
      "小于10不等于5的数\n"
     ]
    }
   ],
   "source": [
    "#python中有3种基本控制流：顺序结构、条件分支结构、循环结构\n",
    "#条件分支结构 if elif else \n",
    "a=6\n",
    "if a==5:\n",
    "    print(a)\n",
    "elif a<10:\n",
    "    print('小于10不等于5的数')\n",
    "else:\n",
    "    print('大于10的数')"
   ]
  },
  {
   "cell_type": "code",
   "execution_count": 28,
   "metadata": {},
   "outputs": [
    {
     "name": "stdout",
     "output_type": "stream",
     "text": [
      "6\n",
      "5\n",
      "4\n",
      "3\n"
     ]
    }
   ],
   "source": [
    "#while 循环\n",
    "a=6\n",
    "while a>2:\n",
    "    print(a)\n",
    "    a=a-1"
   ]
  },
  {
   "cell_type": "code",
   "execution_count": 29,
   "metadata": {},
   "outputs": [
    {
     "name": "stdout",
     "output_type": "stream",
     "text": [
      "1 a\n",
      "2 b\n",
      "3 c\n",
      "4 d\n",
      "5 e\n",
      "0\n",
      "1\n",
      "2\n",
      "3\n",
      "4\n",
      "5\n",
      "6\n",
      "7\n",
      "8\n",
      "9\n"
     ]
    }
   ],
   "source": [
    "#for 循环\n",
    "a=['a','b','c','d','e']\n",
    "b=0\n",
    "for i in a:\n",
    "    b=b+1\n",
    "    print(b,i)\n",
    "a=['a','b','c','d','e']\n",
    "for i in range(0,10):\n",
    "    print(i)  "
   ]
  },
  {
   "cell_type": "code",
   "execution_count": 69,
   "metadata": {},
   "outputs": [
    {
     "name": "stdout",
     "output_type": "stream",
     "text": [
      "0\n",
      "1\n",
      "2\n",
      "3\n",
      "4\n",
      "5\n",
      "7\n",
      "0\n",
      "1\n",
      "2\n",
      "3\n",
      "4\n",
      "5\n"
     ]
    }
   ],
   "source": [
    "#continue只中断一次\n",
    "for i in range(0,8):\n",
    "    if(i==6):\n",
    "        continue\n",
    "    print(i)\n",
    "#break彻底中断\n",
    "for i in range(0,8):\n",
    "    if(i==6):\n",
    "        break\n",
    "    print(i)"
   ]
  },
  {
   "cell_type": "code",
   "execution_count": 105,
   "metadata": {},
   "outputs": [
    {
     "name": "stdout",
     "output_type": "stream",
     "text": [
      "1*1=1  \n",
      "2*1=2  2*2=4  \n",
      "3*1=3  3*2=6  3*3=9  \n",
      "4*1=4  4*2=8  4*3=12  4*4=16  \n",
      "5*1=5  5*2=10  5*3=15  5*4=20  5*5=25  \n",
      "6*1=6  6*2=12  6*3=18  6*4=24  6*5=30  6*6=36  \n",
      "7*1=7  7*2=14  7*3=21  7*4=28  7*5=35  7*6=42  7*7=49  \n",
      "8*1=8  8*2=16  8*3=24  8*4=32  8*5=40  8*6=48  8*7=56  8*8=64  \n",
      "9*1=9  9*2=18  9*3=27  9*4=36  9*5=45  9*6=54  9*7=63  9*8=72  9*9=81  \n"
     ]
    }
   ],
   "source": [
    "#训练实例：输出乘法口诀\n",
    "for i in range(1,10):\n",
    "    for j in range(1,i+1):\n",
    "        print(str(i)+'*'+str(j)+'='+str(i*j)+'  ',end='')  \n",
    "        #str类型用‘+’合在一起\n",
    "    print()"
   ]
  },
  {
   "cell_type": "code",
   "execution_count": 103,
   "metadata": {},
   "outputs": [
    {
     "name": "stdout",
     "output_type": "stream",
     "text": [
      "9*9=81 9*8=72 9*7=63 9*6=54 9*5=45 9*4=36 9*3=27 9*2=18 9*1=9 \n",
      "8*8=64 8*7=56 8*6=48 8*5=40 8*4=32 8*3=24 8*2=16 8*1=8 \n",
      "7*7=49 7*6=42 7*5=35 7*4=28 7*3=21 7*2=14 7*1=7 \n",
      "6*6=36 6*5=30 6*4=24 6*3=18 6*2=12 6*1=6 \n",
      "5*5=25 5*4=20 5*3=15 5*2=10 5*1=5 \n",
      "4*4=16 4*3=12 4*2=8 4*1=4 \n",
      "3*3=9 3*2=6 3*1=3 \n",
      "2*2=4 2*1=2 \n",
      "1*1=1 \n"
     ]
    }
   ],
   "source": [
    "#训练实例：反向输出乘法口诀,range(a,b,c)从a开始遍历至b+!,步长为c,步长为负，即为逆序遍历。\n",
    "for i in range(9,0,-1):   \n",
    "    for j in range(i,0,-1):\n",
    "        print(str(i)+'*'+str(j)+'='+str(i*j)+' ',end='')  \n",
    "    print()"
   ]
  },
  {
   "cell_type": "code",
   "execution_count": null,
   "metadata": {
    "collapsed": true
   },
   "outputs": [],
   "source": [
    "#认识python函数\n",
    "#函数的本质就是功能的封装。使用函数可以大大提高编程的效率与程序的可读性。"
   ]
  },
  {
   "cell_type": "code",
   "execution_count": 135,
   "metadata": {},
   "outputs": [
    {
     "name": "stdout",
     "output_type": "stream",
     "text": [
      "4 2\n",
      "4\n",
      "1\n"
     ]
    },
    {
     "ename": "NameError",
     "evalue": "name 'ny' is not defined",
     "output_type": "error",
     "traceback": [
      "\u001b[0;31m---------------------------------------------------------------------------\u001b[0m",
      "\u001b[0;31mNameError\u001b[0m                                 Traceback (most recent call last)",
      "\u001b[0;32m<ipython-input-135-bf2203d04f54>\u001b[0m in \u001b[0;36m<module>\u001b[0;34m()\u001b[0m\n\u001b[1;32m     11\u001b[0m \u001b[0mprint\u001b[0m\u001b[0;34m(\u001b[0m\u001b[0mky\u001b[0m\u001b[0;34m)\u001b[0m\u001b[0;34m\u001b[0m\u001b[0m\n\u001b[1;32m     12\u001b[0m \u001b[0mprint\u001b[0m\u001b[0;34m(\u001b[0m\u001b[0mmy\u001b[0m\u001b[0;34m)\u001b[0m\u001b[0;34m\u001b[0m\u001b[0m\n\u001b[0;32m---> 13\u001b[0;31m \u001b[0mprint\u001b[0m\u001b[0;34m(\u001b[0m\u001b[0mny\u001b[0m\u001b[0;34m)\u001b[0m\u001b[0;34m\u001b[0m\u001b[0m\n\u001b[0m",
      "\u001b[0;31mNameError\u001b[0m: name 'ny' is not defined"
     ]
    }
   ],
   "source": [
    "#变量是有生效范围的，这个生效范围我们成为作用域。作用域从变量出现开始到程序的最末的变量叫全局变量，作用域只在局部的变量叫做局部变量。\n",
    "#作用域\n",
    "#my全局变量，ny局部变量,将局部变量ky使用global，调用函数后变为全局变量\n",
    "my=1\n",
    "def func():\n",
    "    global ky\n",
    "    ny=2\n",
    "    ky=3\n",
    "    ky+=1\n",
    "    print(ky,ny)\n",
    "func()\n",
    "print(ky)\n",
    "print(my)\n",
    "print(ny)"
   ]
  },
  {
   "cell_type": "code",
   "execution_count": 136,
   "metadata": {},
   "outputs": [
    {
     "name": "stdout",
     "output_type": "stream",
     "text": [
      "abc!\n"
     ]
    }
   ],
   "source": [
    "#函数的定义和调用\n",
    "def abc():\n",
    "    print('abc!')\n",
    "abc()"
   ]
  },
  {
   "cell_type": "code",
   "execution_count": 137,
   "metadata": {},
   "outputs": [
    {
     "name": "stdout",
     "output_type": "stream",
     "text": [
      "3\n"
     ]
    }
   ],
   "source": [
    "#在函数中，如果需要让函数与外界有数据的传递，我们则需要使用参数。\n",
    "#参数分为形参和实参，一般来说，在函数定义时使用的参数是形参，在函数调用时使用的参数叫做实参。\n",
    "def function1(a,b):#形参\n",
    "    if(a>b):\n",
    "        print(a)\n",
    "    else:\n",
    "        print(b)\n",
    "function1(2,3)#实参"
   ]
  },
  {
   "cell_type": "code",
   "execution_count": null,
   "metadata": {
    "collapsed": true
   },
   "outputs": [],
   "source": [
    "#什么是python模块\n",
    "#我们可以按需求类别常见的功能(函数)组合在一起，形成模块。以后我们要实现这一类功能的时候，直接导入该模块即可。模块里面的函数叫做模块的方法。\n",
    "#系统自带的模块在安装目录的lib目录中。"
   ]
  },
  {
   "cell_type": "code",
   "execution_count": 153,
   "metadata": {},
   "outputs": [
    {
     "name": "stdout",
     "output_type": "stream",
     "text": [
      "154045\n",
      "204669\n"
     ]
    }
   ],
   "source": [
    "#import 模块\n",
    "#import urllib\n",
    "from urllib import request #从某一文件夹找到下一目录中模块,import了谁，就从谁开始写\n",
    "data1=request.urlopen(\"http://www.baidu.com\").read() #爬虫\n",
    "print(len(data1))\n",
    "data2=request.urlopen(\"http://m.baidu.com\").read()\n",
    "print(len(data2))"
   ]
  },
  {
   "cell_type": "code",
   "execution_count": 162,
   "metadata": {},
   "outputs": [
    {
     "name": "stdout",
     "output_type": "stream",
     "text": [
      "hello!Im testing!\n"
     ]
    }
   ],
   "source": [
    "#自定义模块的使用，模块放到相应代码文件目录下\n",
    "from zdymdtest import *\n",
    "print(zhmd())"
   ]
  },
  {
   "cell_type": "code",
   "execution_count": 184,
   "metadata": {},
   "outputs": [
    {
     "name": "stdout",
     "output_type": "stream",
     "text": [
      "我是上半年数据\n",
      "Cdskvjfs\n",
      "Xdkcjdsvj\n",
      "Cdklsvvj\n",
      "我是上半年数据\n",
      "\n",
      "Cdskvjfs\n",
      "\n",
      "Xdkcjdsvj\n",
      "\n",
      "Cdklsvvj\n"
     ]
    }
   ],
   "source": [
    "#文件操作\n",
    "#open(\"打开文件名称\",\"打开方式\")，'w'有文件即打开，没文件自动创建再打开\n",
    "fh=open('/Users/zanghong/Documents/腾讯工作/原始数据/1.txt','w')\n",
    "contents1='我是上半年数据'\n",
    "fh.write(contents1)\n",
    "fh.close()\n",
    "#open(\"打开文件名称\",\"打开方式\")，'r'有文件即打开，没文件报错\n",
    "fh1=open('/Users/zanghong/Documents/腾讯工作/原始数据/2.txt','r')\n",
    "print(fh1.read())\n",
    "fh.close()\n",
    "#按行读取\n",
    "fh2=open('/Users/zanghong/Documents/腾讯工作/原始数据/2.txt','r')\n",
    "while True:\n",
    "    data=fh2.readline()\n",
    "    if len(data)==0:\n",
    "        break\n",
    "    print(data)\n",
    "fh2.close()"
   ]
  },
  {
   "cell_type": "code",
   "execution_count": 185,
   "metadata": {},
   "outputs": [
    {
     "name": "stdout",
     "output_type": "stream",
     "text": [
      "my\n",
      "name 'printsds' is not defined\n",
      "hello\n"
     ]
    }
   ],
   "source": [
    "#爬虫过程中异常数据处理\n",
    "try:\n",
    "    print('my')\n",
    "    printsds('hi')\n",
    "except Exception as er:#查找到异常\n",
    "    print(er)\n",
    "    print('hello')"
   ]
  },
  {
   "cell_type": "code",
   "execution_count": 244,
   "metadata": {},
   "outputs": [
    {
     "name": "stdout",
     "output_type": "stream",
     "text": [
      "正在读取文件：/Users/zanghong/Documents/腾讯工作/原始数据/第一个测试文件.xlsx的第0个标签...\n",
      "看这里0\n",
      "[['课程名', '讲师', '发布日期']]\n",
      "[['课程名', '讲师', '发布日期'], ['python', 'Mike', 2016.1]]\n",
      "[['课程名', '讲师', '发布日期'], ['python', 'Mike', 2016.1], ['linux', 'Lucy', 2017.1]]\n",
      "[['课程名', '讲师', '发布日期'], ['python', 'Mike', 2016.1], ['linux', 'Lucy', 2017.1], ['android', 'Sunny', 2018.1]]\n",
      "[['课程名', '讲师', '发布日期'], ['python', 'Mike', 2016.1], ['linux', 'Lucy', 2017.1], ['android', 'Sunny', 2018.1], ['java', 'Jackson', 2019.1]]\n",
      "正在读取文件：/Users/zanghong/Documents/腾讯工作/原始数据/第二个测试文件.xlsx的第0个标签...\n",
      "看这里5\n",
      "[['python', 'Mike', 2016.1]]\n",
      "[['python', 'Mike', 2016.1], ['linux', 'Lucy', 2017.1]]\n",
      "[['python', 'Mike', 2016.1], ['linux', 'Lucy', 2017.1], ['android', 'Sunny', 2018.1]]\n",
      "[['python', 'Mike', 2016.1], ['linux', 'Lucy', 2017.1], ['android', 'Sunny', 2018.1], ['java', 'Jackson', 2019.1]]\n",
      "正在读取文件：/Users/zanghong/Documents/腾讯工作/原始数据/第三个测试文件.xlsx的第0个标签...\n",
      "看这里9\n",
      "[['python', 'Mike', 2016.1]]\n",
      "[['python', 'Mike', 2016.1], ['linux', 'Lucy', 2017.1]]\n",
      "[['python', 'Mike', 2016.1], ['linux', 'Lucy', 2017.1], ['android', 'Sunny', 2018.1]]\n",
      "[['python', 'Mike', 2016.1], ['linux', 'Lucy', 2017.1], ['android', 'Sunny', 2018.1], ['java', 'Jackson', 2019.1]]\n",
      "0\n",
      "[[[['课程名', '讲师', '发布日期'], ['python', 'Mike', 2016.1], ['linux', 'Lucy', 2017.1], ['android', 'Sunny', 2018.1], ['java', 'Jackson', 2019.1]], [['python', 'Mike', 2016.1], ['linux', 'Lucy', 2017.1], ['android', 'Sunny', 2018.1], ['java', 'Jackson', 2019.1]], [['python', 'Mike', 2016.1], ['linux', 'Lucy', 2017.1], ['android', 'Sunny', 2018.1], ['java', 'Jackson', 2019.1]]]]\n",
      "正在读取文件：/Users/zanghong/Documents/腾讯工作/原始数据/第一个测试文件.xlsx的第1个标签...\n",
      "看这里13\n",
      "[['书籍名', '出版社', '出版时间']]\n",
      "[['书籍名', '出版社', '出版时间'], ['python基础', '机械工业', 2017.01]]\n",
      "[['书籍名', '出版社', '出版时间'], ['python基础', '机械工业', 2017.01], ['测试书', '电子大学', 2018.01]]\n",
      "正在读取文件：/Users/zanghong/Documents/腾讯工作/原始数据/第二个测试文件.xlsx的第1个标签...\n",
      "看这里16\n",
      "[['python基础', '机械工业', 2017.01]]\n",
      "[['python基础', '机械工业', 2017.01], ['测试书', '电子大学', 2018.01]]\n",
      "正在读取文件：/Users/zanghong/Documents/腾讯工作/原始数据/第三个测试文件.xlsx的第1个标签...\n",
      "看这里18\n",
      "[['python基础', '机械工业', 2017.01]]\n",
      "[['python基础', '机械工业', 2017.01], ['测试书', '电子大学', 2018.01]]\n",
      "1\n",
      "[[[['课程名', '讲师', '发布日期'], ['python', 'Mike', 2016.1], ['linux', 'Lucy', 2017.1], ['android', 'Sunny', 2018.1], ['java', 'Jackson', 2019.1]], [['python', 'Mike', 2016.1], ['linux', 'Lucy', 2017.1], ['android', 'Sunny', 2018.1], ['java', 'Jackson', 2019.1]], [['python', 'Mike', 2016.1], ['linux', 'Lucy', 2017.1], ['android', 'Sunny', 2018.1], ['java', 'Jackson', 2019.1]], [['书籍名', '出版社', '出版时间'], ['python基础', '机械工业', 2017.01], ['测试书', '电子大学', 2018.01]], [['python基础', '机械工业', 2017.01], ['测试书', '电子大学', 2018.01]], [['python基础', '机械工业', 2017.01], ['测试书', '电子大学', 2018.01]]]]\n",
      "[[[['课程名', '讲师', '发布日期'], ['python', 'Mike', 2016.1], ['linux', 'Lucy', 2017.1], ['android', 'Sunny', 2018.1], ['java', 'Jackson', 2019.1]], [['python', 'Mike', 2016.1], ['linux', 'Lucy', 2017.1], ['android', 'Sunny', 2018.1], ['java', 'Jackson', 2019.1]], [['python', 'Mike', 2016.1], ['linux', 'Lucy', 2017.1], ['android', 'Sunny', 2018.1], ['java', 'Jackson', 2019.1]], [['书籍名', '出版社', '出版时间'], ['python基础', '机械工业', 2017.01], ['测试书', '电子大学', 2018.01]], [['python基础', '机械工业', 2017.01], ['测试书', '电子大学', 2018.01]], [['python基础', '机械工业', 2017.01], ['测试书', '电子大学', 2018.01]]]]\n",
      "[[[['课程名', '讲师', '发布日期'], ['python', 'Mike', 2016.1], ['linux', 'Lucy', 2017.1], ['android', 'Sunny', 2018.1], ['java', 'Jackson', 2019.1]], [['python', 'Mike', 2016.1], ['linux', 'Lucy', 2017.1], ['android', 'Sunny', 2018.1], ['java', 'Jackson', 2019.1]], [['python', 'Mike', 2016.1], ['linux', 'Lucy', 2017.1], ['android', 'Sunny', 2018.1], ['java', 'Jackson', 2019.1]], [['书籍名', '出版社', '出版时间'], ['python基础', '机械工业', 2017.01], ['测试书', '电子大学', 2018.01]], [['python基础', '机械工业', 2017.01], ['测试书', '电子大学', 2018.01]], [['python基础', '机械工业', 2017.01], ['测试书', '电子大学', 2018.01]]]]\n"
     ]
    }
   ],
   "source": [
    "#如何将多个表中的内容合并在一起\n",
    "#思路：使用excel模块，比如xlrd,xlwt,openpyxl,xlsxwriter等模块。\n",
    "#xlrd模块主要用于读取excel表，\n",
    "#xlwt与xlsxwriter用于将数据写入表中，但不能修改表\n",
    "#方案1:使用openpyxl，只对xlsx有效\n",
    "#方案2:仍然使用xlwt与xlsxwriter等模块，先将每次读取的信息存储到list(列表)中，然后一次写入。\n",
    "import xlrd,xlsxwriter\n",
    "#待合并excel,列表形式存储需要合并的文件\n",
    "allxls=['/Users/zanghong/Documents/腾讯工作/原始数据/第一个测试文件.xlsx',\n",
    "        '/Users/zanghong/Documents/腾讯工作/原始数据/第二个测试文件.xlsx',\n",
    "        '/Users/zanghong/Documents/腾讯工作/原始数据/第三个测试文件.xlsx']\n",
    "#目标excel，设置合并好的文件存储的路径\n",
    "end_xls='/Users/zanghong/Documents/腾讯工作/原始数据/合并测试文件.xlsx'\n",
    "\n",
    "#打开表格\n",
    "def open_xls(file):\n",
    "    try:\n",
    "        fb=xlrd.open_workbook(file)\n",
    "        return fb\n",
    "    except Eexception as e:\n",
    "        print('打开文件错误:'+e)\n",
    "        \n",
    "#获取所有sheet\n",
    "def getsheet(fh):\n",
    "    return fh.sheets()\n",
    "\n",
    "#读取某个sheet的行数\n",
    "def getnrows(fh,sheet):\n",
    "    table=fh.sheets()[sheet]\n",
    "    shnrows=table.nrows\n",
    "    return shnrows\n",
    "    \n",
    "#读取某个文件的内容并返回所有行的值\n",
    "def get_file_value(fb,shnum):    \n",
    "    fh=open_xls(fb)#打开此文件\n",
    "    table=fh.sheet_by_name(shname[shnum])#获取当前文件当前sheet名的内容\n",
    "    row_num=getnrows(fh,shnum)#得到行数\n",
    "    lenrvalue=len(rvalue)#一开始lenrvalue为0,随着以行为单位的继续添加，rvalue长度按行数增加。当一个sheet为单位的循环结束后，rvalue长度增加一个sheet为单位的长度。\n",
    "    print('看这里'+str(lenrvalue))\n",
    "    if y>0:\n",
    "        for row in range(1,row_num):#按行读取，一行一行读取，读取整个sheet\n",
    "            rdata=table.row_values(row)\n",
    "            rvalue.append(rdata)\n",
    "            print(rvalue[lenrvalue:])\n",
    "        filevalue.append(rvalue[lenrvalue:])#按sheet为单位，添加到文件中。因前面每次循环增加完一个sheet，此时rvalue长度即为加入的sheet的总行数，所以从现行数开始向文件中添加后续的sheet。\n",
    "    else:\n",
    "        for row in range(0,row_num):#按行读取，一行一行读取，读取整个sheet\n",
    "            rdata=table.row_values(row)\n",
    "            rvalue.append(rdata)\n",
    "            print(rvalue[lenrvalue:])\n",
    "        filevalue.append(rvalue[lenrvalue:])#按sheet为单位，添加到文件中。因前面每次循环增加完一个sheet，此时rvalue长度即为加入的sheet的总行数，所以从现行数开始向文件中添加后续的sheet。\n",
    "    return filevalue\n",
    "        \n",
    "    \n",
    "\n",
    "shname=[]\n",
    "filevalue=[]\n",
    "svalue=[]\n",
    "rvalue=[]\n",
    "\n",
    "#读取第一个待读文件，获取sheet数\n",
    "f1=open_xls(allxls[0])#打开第一个文件\n",
    "sh=getsheet(f1)#获得所有sheet\n",
    "x=0\n",
    "for sheet in sh:#按照列表方式遍历，不是按照数字遍历，想知道循环几次，用x来计数。\n",
    "    shname.append(sheet.name)\n",
    "    svalue.append([])#有几种类型的sheet就设立几个数组，以相同名称的sheet为单位往里添加数据为一组\n",
    "    x+=1\n",
    "#依次读取各sheet的内容\n",
    "#依次读取各文件当前sheet的内容\n",
    "for shnum in range(0,x):#第一个文件中有x个sheet，依次遍历\n",
    "    lenfvalue=len(filevalue)\n",
    "    y=0\n",
    "    for fb in allxls:#依次读取各文件，取各文件相同sheet名的内容\n",
    "        print('正在读取文件：'+str(fb)+'的第'+str(shnum)+'个标签...')\n",
    "        filevalue=get_file_value(fb,shnum) #filevalue为三维度[file1[行1['列1'，'列2','列3'],行2['列1'，'列2','列3']，...行n['列1'，'列2','列3']]...filen[行1['列1'，'列2','列3'],行2['列1'，'列2','列3']，...行n['列1'，'列2','列3']]]\n",
    "        y+=1\n",
    "    svalue[shnum].append(filevalue)#内层循环完后，得到一组各个文件相同sheet名的所有内容,直接添加到svalue中[[0[[[]]]],[1[[[]]]],[2[[[]]]]]\n",
    "    print(shnum)\n",
    "    print(svalue[shnum])\n",
    "print(svalue[0])\n",
    "print(svalue[1])\n",
    "    #由于append具有叠加关系，分析可得所有信息均在svalue[0][0]中存储\n",
    "\n",
    "#print(svalue)\n",
    "#svalue[0][0]元素数量为sheet标签数(sn)*文件数(fn)\n",
    "sn=x\n",
    "fn=len(allxls)\n",
    "endvalue=[]\n",
    "def getsvalue(k):\n",
    "    for z in range(k,k+fn):\n",
    "        endvalue.append(svalue[0][0][z])\n",
    "    return endvalue\n",
    "#打开最终写入的文件\n",
    "wb1=xlsxwriter.Workbook(end_xls)\n",
    "#创建一个sheet工作对象\n",
    "ws=wb1.add_worksheet()\n",
    "polit=0\n",
    "linenum=0\n",
    "#依次遍历每个sheet中的数据\n",
    "for s in range(0,sn*fn,fn):#步长为文件数\n",
    "    thisvalue=getsvalue(s)\n",
    "    tvalue=thisvalue[polit:]\n",
    "    #将一个标签的内容写入新文件中\n",
    "    for a in range(0,len(tvalue)):\n",
    "        for b in range(0,len(tvalue[a])):\n",
    "            for c in range(0,len(tvalue[a][b])):\n",
    "                data=tvalue[a][b][c]\n",
    "                ws.write(linenum,c,data)\n",
    "            linenum+=1\n",
    "    #叠加关系，需要设置分割点\n",
    "    polit=len(thisvalue)\n",
    "wb1.close()\n",
    "\n",
    "\n",
    "\n"
   ]
  },
  {
   "cell_type": "code",
   "execution_count": null,
   "metadata": {
    "collapsed": true
   },
   "outputs": [],
   "source": []
  },
  {
   "cell_type": "code",
   "execution_count": null,
   "metadata": {
    "collapsed": true
   },
   "outputs": [],
   "source": []
  },
  {
   "cell_type": "code",
   "execution_count": null,
   "metadata": {
    "collapsed": true
   },
   "outputs": [],
   "source": [
    "#svalue[0][0]元素数量为sheet标签数(sn)*文件数(fn)\n",
    "sn=x\n",
    "fn=len(allxls)\n",
    "endvalue=[]\n",
    "def getsvalue(k):\n",
    "    for z in range(k,k+fn):\n",
    "        endvalue.append(svalue[0][0][z])\n",
    "    return endvalue\n",
    "#打开最终写入的文件\n",
    "wb1=xlsxwriter.Workbook(end_xls)\n",
    "#创建一个sheet工作对象\n",
    "ws=wb1.add_worksheet()\n",
    "polit=0\n",
    "linenum=0\n",
    "#依次遍历每个sheet中的数据\n",
    "for s in range(0,sn*fn,fn):#步长为文件数\n",
    "    thisvalue=getsvalue(s)\n",
    "    tvalue=thisvalue[polit:]\n",
    "    #将一个标签的内容写入新文件中\n",
    "    for a in range(0,len(tvalue)):\n",
    "        for b in range(0,len(tvalue[a])):\n",
    "            for c in range(0,len(tvalue[a][b])):\n",
    "                data=tvalue[a][b][c]\n",
    "                ws.write(linenum,c,data)\n",
    "            linenum+=1\n",
    "    #叠加关系，需要设置分割点\n",
    "    polit=len(thisvalue)\n",
    "wb1.close()\n",
    "\n"
   ]
  }
 ],
 "metadata": {
  "kernelspec": {
   "display_name": "Python 3",
   "language": "python",
   "name": "python3"
  },
  "language_info": {
   "codemirror_mode": {
    "name": "ipython",
    "version": 3
   },
   "file_extension": ".py",
   "mimetype": "text/x-python",
   "name": "python",
   "nbconvert_exporter": "python",
   "pygments_lexer": "ipython3",
   "version": "3.6.1"
  }
 },
 "nbformat": 4,
 "nbformat_minor": 2
}
